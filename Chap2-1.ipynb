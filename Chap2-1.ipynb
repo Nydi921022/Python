{
 "cells": [
  {
   "cell_type": "code",
   "execution_count": 1,
   "metadata": {},
   "outputs": [
    {
     "name": "stdout",
     "output_type": "stream",
     "text": [
      "請輸入1~10之間的數字-->10\n",
      "你猜錯了\n",
      "請輸入1~10之間的數字-->9\n",
      "你猜錯了\n",
      "請輸入1~10之間的數字-->8\n",
      "你猜錯了\n",
      "請輸入1~10之間的數字-->7\n",
      "你猜錯了\n",
      "請輸入1~10之間的數字-->6\n",
      "你猜錯了\n",
      "請輸入1~10之間的數字-->5\n",
      "你猜錯了\n",
      "請輸入1~10之間的數字-->4\n",
      "你猜對了,數字是 4\n"
     ]
    }
   ],
   "source": [
    "import random\n",
    "number = random.randint(0, 10)\n",
    "while True:\n",
    "    guess = int(input(\"請輸入1~10之間的數字-->\"))\n",
    "    if guess ==number:\n",
    "        print(\"你猜對了,數字是\",number)\n",
    "        break\n",
    "    else:\n",
    "        print(\"你猜錯了\")"
   ]
  },
  {
   "cell_type": "code",
   "execution_count": null,
   "metadata": {},
   "outputs": [],
   "source": []
  }
 ],
 "metadata": {
  "kernelspec": {
   "display_name": "Python 3",
   "language": "python",
   "name": "python3"
  },
  "language_info": {
   "codemirror_mode": {
    "name": "ipython",
    "version": 3
   },
   "file_extension": ".py",
   "mimetype": "text/x-python",
   "name": "python",
   "nbconvert_exporter": "python",
   "pygments_lexer": "ipython3",
   "version": "3.8.5"
  }
 },
 "nbformat": 4,
 "nbformat_minor": 4
}
